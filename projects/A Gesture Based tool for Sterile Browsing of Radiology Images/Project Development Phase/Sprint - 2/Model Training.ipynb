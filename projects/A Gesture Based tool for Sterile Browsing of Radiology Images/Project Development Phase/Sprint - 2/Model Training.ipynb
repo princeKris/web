{
 "cells": [
  {
   "cell_type": "markdown",
   "metadata": {},
   "source": [
    "# Model Building"
   ]
  },
  {
   "cell_type": "markdown",
   "metadata": {},
   "source": [
    "### Importing libraries"
   ]
  },
  {
   "cell_type": "code",
   "execution_count": 1,
   "metadata": {},
   "outputs": [],
   "source": [
    "import numpy as np\n",
    "import tensorflow as tf\n",
    "from tensorflow.keras.models import Sequential \n",
    "from tensorflow.keras.layers import Dense,Flatten, Dropout\n",
    "from tensorflow.keras.layers import Convolution2D,MaxPooling2D\n",
    "from tensorflow.keras.preprocessing.image import ImageDataGenerator"
   ]
  },
  {
   "cell_type": "markdown",
   "metadata": {},
   "source": [
    "### Augmenting the data "
   ]
  },
  {
   "cell_type": "code",
   "execution_count": 2,
   "metadata": {},
   "outputs": [],
   "source": [
    "#setting parameter for Image Data agumentation to the traing data\n",
    "train_datagen = ImageDataGenerator(rescale=1./255,shear_range=0.2,zoom_range=0.2,horizontal_flip=True)\n",
    "test_datagen=ImageDataGenerator(rescale=1./255)"
   ]
  },
  {
   "cell_type": "markdown",
   "metadata": {},
   "source": [
    "### Loading our data and performing data agumentation"
   ]
  },
  {
   "cell_type": "code",
   "execution_count": 3,
   "metadata": {},
   "outputs": [
    {
     "name": "stdout",
     "output_type": "stream",
     "text": [
      "Found 594 images belonging to 6 classes.\n",
      "Found 30 images belonging to 6 classes.\n",
      "{'0': 0, '1': 1, '2': 2, '3': 3, '4': 4, '5': 5}\n"
     ]
    }
   ],
   "source": [
    "#performing data agumentation to train data\n",
    "x_train = train_datagen.flow_from_directory(r'D:\\\\Programming\\\\IBM\\\\Dataset\\\\train',target_size=(64, 64),batch_size=3,color_mode='grayscale',class_mode='categorical')\n",
    "#performing data agumentation to test data\n",
    "x_test = test_datagen.flow_from_directory(r'D:\\\\Programming\\\\IBM\\\\Dataset\\\\test',target_size=(64, 64),batch_size=3,color_mode='grayscale',class_mode='categorical') \n",
    "print(x_train.class_indices)"
   ]
  },
  {
   "cell_type": "markdown",
   "metadata": {},
   "source": [
    "### Model Creation"
   ]
  },
  {
   "cell_type": "code",
   "execution_count": 4,
   "metadata": {},
   "outputs": [
    {
     "name": "stdout",
     "output_type": "stream",
     "text": [
      "Model: \"sequential\"\n",
      "_________________________________________________________________\n",
      " Layer (type)                Output Shape              Param #   \n",
      "=================================================================\n",
      " conv2d (Conv2D)             (None, 62, 62, 32)        320       \n",
      "                                                                 \n",
      " max_pooling2d (MaxPooling2D  (None, 31, 31, 32)       0         \n",
      " )                                                               \n",
      "                                                                 \n",
      " conv2d_1 (Conv2D)           (None, 29, 29, 32)        9248      \n",
      "                                                                 \n",
      " max_pooling2d_1 (MaxPooling  (None, 14, 14, 32)       0         \n",
      " 2D)                                                             \n",
      "                                                                 \n",
      " flatten (Flatten)           (None, 6272)              0         \n",
      "                                                                 \n",
      " dense (Dense)               (None, 512)               3211776   \n",
      "                                                                 \n",
      " dense_1 (Dense)             (None, 6)                 3078      \n",
      "                                                                 \n",
      "=================================================================\n",
      "Total params: 3,224,422\n",
      "Trainable params: 3,224,422\n",
      "Non-trainable params: 0\n",
      "_________________________________________________________________\n"
     ]
    }
   ],
   "source": [
    "# Initializing the CNN\n",
    "model = Sequential()\n",
    "model.add(Convolution2D(32, (3, 3), input_shape=(64, 64, 1), activation='relu'))\n",
    "model.add(MaxPooling2D(pool_size=(2, 2)))\n",
    "model.add(Convolution2D(32, (3, 3), activation='relu'))\n",
    "model.add(MaxPooling2D(pool_size=(2,2)))\n",
    "model.add(Flatten())\n",
    "model.add(Dense(units=512 , activation='relu'))\n",
    "model.add(Dense(units=6, activation='softmax'))\n",
    "model.summary()"
   ]
  },
  {
   "cell_type": "markdown",
   "metadata": {},
   "source": [
    "### Model Compilation"
   ]
  },
  {
   "cell_type": "code",
   "execution_count": 5,
   "metadata": {},
   "outputs": [],
   "source": [
    "# Compiling the CNN\n",
    "# categorical_crossentropy for more than 2\n",
    "model.compile(optimizer='adam', loss='categorical_crossentropy', metrics=['accuracy']) "
   ]
  },
  {
   "cell_type": "markdown",
   "metadata": {},
   "source": [
    "## Model fitting"
   ]
  },
  {
   "cell_type": "code",
   "execution_count": null,
   "metadata": {},
   "outputs": [
    {
     "name": "stdout",
     "output_type": "stream",
     "text": [
      "Epoch 1/25\n"
     ]
    },
    {
     "name": "stderr",
     "output_type": "stream",
     "text": [
      "C:\\Users\\Ganes\\AppData\\Local\\Temp\\ipykernel_13964\\1145011341.py:2: UserWarning: `Model.fit_generator` is deprecated and will be removed in a future version. Please use `Model.fit`, which supports generators.\n",
      "  model.fit_generator(x_train,steps_per_epoch = 594/3 ,epochs = 25,validation_data = x_test,validation_steps = 30/3 )\n"
     ]
    },
    {
     "name": "stdout",
     "output_type": "stream",
     "text": [
      "198/198 [==============================] - 11s 54ms/step - loss: 1.2452 - accuracy: 0.5152 - val_loss: 0.6551 - val_accuracy: 0.7000\n",
      "Epoch 2/25\n",
      "198/198 [==============================] - 8s 41ms/step - loss: 0.5288 - accuracy: 0.7963 - val_loss: 0.4263 - val_accuracy: 0.9000\n",
      "Epoch 3/25\n",
      "198/198 [==============================] - 8s 41ms/step - loss: 0.3819 - accuracy: 0.8620 - val_loss: 0.3165 - val_accuracy: 0.9000\n",
      "Epoch 4/25\n",
      "198/198 [==============================] - 8s 41ms/step - loss: 0.3060 - accuracy: 0.8973 - val_loss: 0.3275 - val_accuracy: 0.9333\n",
      "Epoch 5/25\n",
      "198/198 [==============================] - 8s 41ms/step - loss: 0.1946 - accuracy: 0.9310 - val_loss: 0.4693 - val_accuracy: 0.9333\n",
      "Epoch 6/25\n",
      "198/198 [==============================] - 8s 41ms/step - loss: 0.1427 - accuracy: 0.9596 - val_loss: 0.2480 - val_accuracy: 0.9000\n",
      "Epoch 7/25\n",
      "198/198 [==============================] - 8s 41ms/step - loss: 0.0766 - accuracy: 0.9731 - val_loss: 0.6772 - val_accuracy: 0.8000\n",
      "Epoch 8/25\n",
      "198/198 [==============================] - 9s 44ms/step - loss: 0.1357 - accuracy: 0.9461 - val_loss: 0.3113 - val_accuracy: 0.9667\n",
      "Epoch 9/25\n",
      "198/198 [==============================] - 8s 41ms/step - loss: 0.1085 - accuracy: 0.9613 - val_loss: 0.3644 - val_accuracy: 0.9667\n",
      "Epoch 10/25\n",
      "198/198 [==============================] - 8s 42ms/step - loss: 0.0780 - accuracy: 0.9646 - val_loss: 0.6883 - val_accuracy: 0.8000\n",
      "Epoch 11/25\n",
      "198/198 [==============================] - 8s 40ms/step - loss: 0.0962 - accuracy: 0.9697 - val_loss: 0.3337 - val_accuracy: 0.9333\n",
      "Epoch 12/25\n",
      "198/198 [==============================] - 8s 41ms/step - loss: 0.0979 - accuracy: 0.9697 - val_loss: 0.2184 - val_accuracy: 0.9667\n",
      "Epoch 13/25\n",
      "198/198 [==============================] - 8s 41ms/step - loss: 0.0384 - accuracy: 0.9848 - val_loss: 0.4269 - val_accuracy: 0.9333\n",
      "Epoch 14/25\n",
      "198/198 [==============================] - 8s 42ms/step - loss: 0.0675 - accuracy: 0.9781 - val_loss: 0.3178 - val_accuracy: 0.9667\n",
      "Epoch 15/25\n",
      "198/198 [==============================] - 8s 41ms/step - loss: 0.0261 - accuracy: 0.9949 - val_loss: 0.4330 - val_accuracy: 0.9333\n",
      "Epoch 16/25\n",
      "198/198 [==============================] - 8s 41ms/step - loss: 0.0602 - accuracy: 0.9781 - val_loss: 0.3468 - val_accuracy: 0.9667\n",
      "Epoch 17/25\n",
      "198/198 [==============================] - 8s 41ms/step - loss: 0.0721 - accuracy: 0.9747 - val_loss: 0.4703 - val_accuracy: 0.8667\n",
      "Epoch 18/25\n",
      "198/198 [==============================] - 8s 41ms/step - loss: 0.0692 - accuracy: 0.9781 - val_loss: 0.2343 - val_accuracy: 0.9667\n",
      "Epoch 19/25\n",
      "198/198 [==============================] - 8s 41ms/step - loss: 0.0193 - accuracy: 0.9949 - val_loss: 0.3709 - val_accuracy: 0.9333\n",
      "Epoch 20/25\n",
      "198/198 [==============================] - 8s 41ms/step - loss: 0.0023 - accuracy: 1.0000 - val_loss: 0.3462 - val_accuracy: 0.9667\n",
      "Epoch 21/25\n",
      " 35/198 [====>.........................] - ETA: 6s - loss: 0.0019 - accuracy: 1.0000"
     ]
    }
   ],
   "source": [
    "# It will generate packets of train and test data for training\n",
    "model.fit_generator(x_train,steps_per_epoch = 594/3 ,epochs = 25,validation_data = x_test,validation_steps = 30/3 )"
   ]
  },
  {
   "cell_type": "markdown",
   "metadata": {},
   "source": [
    "### Saving model"
   ]
  },
  {
   "cell_type": "code",
   "execution_count": null,
   "metadata": {},
   "outputs": [],
   "source": [
    "# Save the model\n",
    "model.save('gesture.h5')"
   ]
  }
 ],
 "metadata": {
  "kernelspec": {
   "display_name": "Python 3 (ipykernel)",
   "language": "python",
   "name": "python3"
  },
  "language_info": {
   "codemirror_mode": {
    "name": "ipython",
    "version": 3
   },
   "file_extension": ".py",
   "mimetype": "text/x-python",
   "name": "python",
   "nbconvert_exporter": "python",
   "pygments_lexer": "ipython3",
   "version": "3.10.5"
  }
 },
 "nbformat": 4,
 "nbformat_minor": 4
}
