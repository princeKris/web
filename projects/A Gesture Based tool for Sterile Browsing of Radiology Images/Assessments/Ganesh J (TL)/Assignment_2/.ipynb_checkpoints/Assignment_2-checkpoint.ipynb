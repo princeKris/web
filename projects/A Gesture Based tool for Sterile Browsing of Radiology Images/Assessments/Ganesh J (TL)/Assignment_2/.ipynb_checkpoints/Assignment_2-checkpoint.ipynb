{
 "cells": [
  {
   "cell_type": "code",
   "execution_count": 3,
   "id": "5e94ccd9",
   "metadata": {},
   "outputs": [],
   "source": [
    "import numpy as np\n",
    "import pandas as pd"
   ]
  },
  {
   "cell_type": "code",
   "execution_count": 6,
   "id": "2681dbf6",
   "metadata": {},
   "outputs": [],
   "source": [
    "def load_csv(Churn_Modelling) :\n",
    "    data = []\n",
    "    col = []\n",
    "    checkcol = False\n",
    "    with open('Churn_Modelling.csv') as fl :\n",
    "        for val in fl.readlines():\n",
    "            val = val.replace(\"\\n\",\"\")\n",
    "            val = val.split(',')\n",
    "            if checkcol is False :\n",
    "                col = val\n",
    "                checkcol = True\n",
    "            else :\n",
    "                data.append(val)\n",
    "    df = pd.DataFrame(data = data, columns = col)\n",
    "    return df"
   ]
  },
  {
   "cell_type": "code",
   "execution_count": 7,
   "id": "724cd1fd",
   "metadata": {},
   "outputs": [
    {
     "name": "stdout",
     "output_type": "stream",
     "text": [
      "  RowNumber CustomerId   Surname CreditScore Geography  Gender Age Tenure  \\\n",
      "0         1   15634602  Hargrave         619    France  Female  42      2   \n",
      "1         2   15647311      Hill         608     Spain  Female  41      1   \n",
      "2         3   15619304      Onio         502    France  Female  42      8   \n",
      "3         4   15701354      Boni         699    France  Female  39      1   \n",
      "4         5   15737888  Mitchell         850     Spain  Female  43      2   \n",
      "\n",
      "     Balance NumOfProducts HasCrCard IsActiveMember EstimatedSalary Exited  \n",
      "0          0             1         1              1       101348.88      1  \n",
      "1   83807.86             1         0              1       112542.58      0  \n",
      "2   159660.8             3         1              0       113931.57      1  \n",
      "3          0             2         0              0        93826.63      0  \n",
      "4  125510.82             1         1              1         79084.1      0  \n"
     ]
    }
   ],
   "source": [
    "myData = load_csv('Churn_Modelling.csv')\n",
    "print(myData.head())"
   ]
  },
  {
   "cell_type": "code",
   "execution_count": null,
   "id": "9596551d",
   "metadata": {},
   "outputs": [],
   "source": []
  }
 ],
 "metadata": {
  "kernelspec": {
   "display_name": "Python 3 (ipykernel)",
   "language": "python",
   "name": "python3"
  },
  "language_info": {
   "codemirror_mode": {
    "name": "ipython",
    "version": 3
   },
   "file_extension": ".py",
   "mimetype": "text/x-python",
   "name": "python",
   "nbconvert_exporter": "python",
   "pygments_lexer": "ipython3",
   "version": "3.10.5"
  }
 },
 "nbformat": 4,
 "nbformat_minor": 5
}
