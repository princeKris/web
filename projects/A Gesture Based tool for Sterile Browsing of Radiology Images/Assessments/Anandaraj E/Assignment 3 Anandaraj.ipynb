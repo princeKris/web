{
 "cells": [
  {
   "cell_type": "code",
   "execution_count": 1,
   "metadata": {
    "id": "f1SfJZsIhJ0b"
   },
   "outputs": [],
   "source": [
    "from tensorflow.keras.preprocessing.image import ImageDataGenerator"
   ]
  },
  {
   "cell_type": "code",
   "execution_count": 2,
   "metadata": {
    "id": "xBeKsicujZ8f"
   },
   "outputs": [],
   "source": [
    "train_data_gen = ImageDataGenerator(rescale = 1./255,zoom_range = 0.2,horizontal_flip = True,vertical_flip = True)"
   ]
  },
  {
   "cell_type": "code",
   "execution_count": 3,
   "metadata": {
    "id": "f7j183ifj-Dn"
   },
   "outputs": [],
   "source": [
    "test_data_gen = ImageDataGenerator(rescale=1./255)"
   ]
  },
  {
   "cell_type": "code",
   "execution_count": 4,
   "metadata": {
    "colab": {
     "base_uri": "https://localhost:8080/"
    },
    "id": "Vvol2dmgkB3v",
    "outputId": "cb0f46a6-b7e6-4ab3-a62b-7bf9a0817fba"
   },
   "outputs": [
    {
     "name": "stdout",
     "output_type": "stream",
     "text": [
      "Found 4317 images belonging to 5 classes.\n"
     ]
    }
   ],
   "source": [
    "x_train = train_data_gen.flow_from_directory(\"C:/Users/nicky raj/Downloads/ass/Flowers-Dataset/flowers\",target_size = (64,64),class_mode = \"categorical\",batch_size = 24)"
   ]
  },
  {
   "cell_type": "code",
   "execution_count": 5,
   "metadata": {
    "colab": {
     "base_uri": "https://localhost:8080/"
    },
    "id": "Ezb5LPbrklBe",
    "outputId": "c4092474-b245-4f56-9285-1e1417e96669"
   },
   "outputs": [
    {
     "name": "stdout",
     "output_type": "stream",
     "text": [
      "Found 4317 images belonging to 5 classes.\n"
     ]
    }
   ],
   "source": [
    "x_test = test_data_gen.flow_from_directory(\"C:/Users/nicky raj/Downloads/ass/Flowers-Dataset/flowers\",target_size = (64,64),class_mode = \"categorical\",batch_size = 24)"
   ]
  },
  {
   "cell_type": "markdown",
   "metadata": {
    "id": "cz0GZA4MkwYv"
   },
   "source": [
    "Model"
   ]
  },
  {
   "cell_type": "code",
   "execution_count": 6,
   "metadata": {
    "id": "deL7IEDSkthE"
   },
   "outputs": [],
   "source": [
    "from tensorflow.keras.models import Sequential\n",
    "from tensorflow.keras.layers import Convolution2D,MaxPooling2D,Flatten,Dense"
   ]
  },
  {
   "cell_type": "code",
   "execution_count": 7,
   "metadata": {
    "id": "xC2O-xOylIZO"
   },
   "outputs": [],
   "source": [
    "model = Sequential()\n",
    "model.add(Convolution2D(32,(3,3),activation = 'relu',input_shape = (64,64,3)))\n",
    "model.add(MaxPooling2D(pool_size = (2,2)))\n",
    "model.add(Flatten())\n",
    "model.add(Dense(300,activation = 'relu'))\n",
    "model.add(Dense(5,activation = 'softmax'))"
   ]
  },
  {
   "cell_type": "markdown",
   "metadata": {
    "id": "cWGruMy7n9TN"
   },
   "source": [
    "Compiling the Model"
   ]
  },
  {
   "cell_type": "code",
   "execution_count": 8,
   "metadata": {
    "id": "7anAuYA5n4th"
   },
   "outputs": [],
   "source": [
    "model.compile(optimizer = 'adam',loss = 'categorical_crossentropy',metrics = ['accuracy'])"
   ]
  },
  {
   "cell_type": "markdown",
   "metadata": {
    "id": "EyuhdUMYpBnD"
   },
   "source": [
    "fitting the Model"
   ]
  },
  {
   "cell_type": "code",
   "execution_count": 9,
   "metadata": {
    "colab": {
     "base_uri": "https://localhost:8080/"
    },
    "id": "ZtFrqN8rps0l",
    "outputId": "fdaeed4c-1ebf-4681-b5dc-a4514f289c42"
   },
   "outputs": [
    {
     "name": "stdout",
     "output_type": "stream",
     "text": [
      "Epoch 1/10\n",
      "180/180 [==============================] - 35s 193ms/step - loss: 0.6616 - accuracy: 0.7521 - val_loss: 0.6369 - val_accuracy: 0.7556\n",
      "Epoch 2/10\n",
      "180/180 [==============================] - 35s 198ms/step - loss: 0.6305 - accuracy: 0.7684 - val_loss: 0.5464 - val_accuracy: 0.7943\n",
      "Epoch 3/10\n",
      "180/180 [==============================] - 34s 187ms/step - loss: 0.5835 - accuracy: 0.7830 - val_loss: 0.5256 - val_accuracy: 0.8063\n",
      "Epoch 4/10\n",
      "180/180 [==============================] - 34s 192ms/step - loss: 0.5849 - accuracy: 0.7816 - val_loss: 0.4903 - val_accuracy: 0.8112\n",
      "Epoch 5/10\n",
      "180/180 [==============================] - 34s 187ms/step - loss: 0.5691 - accuracy: 0.7869 - val_loss: 0.4787 - val_accuracy: 0.8256\n",
      "Epoch 6/10\n",
      "180/180 [==============================] - 34s 188ms/step - loss: 0.5704 - accuracy: 0.7820 - val_loss: 0.4805 - val_accuracy: 0.8209\n",
      "Epoch 7/10\n",
      "180/180 [==============================] - 34s 187ms/step - loss: 0.5447 - accuracy: 0.7955 - val_loss: 0.4564 - val_accuracy: 0.8330\n",
      "Epoch 8/10\n",
      "180/180 [==============================] - 34s 187ms/step - loss: 0.5150 - accuracy: 0.8073 - val_loss: 0.4252 - val_accuracy: 0.8427\n",
      "Epoch 9/10\n",
      "180/180 [==============================] - 34s 188ms/step - loss: 0.4955 - accuracy: 0.8175 - val_loss: 0.4305 - val_accuracy: 0.8395\n",
      "Epoch 10/10\n",
      "180/180 [==============================] - 35s 196ms/step - loss: 0.4880 - accuracy: 0.8191 - val_loss: 0.4610 - val_accuracy: 0.8314\n"
     ]
    },
    {
     "data": {
      "text/plain": [
       "<keras.callbacks.History at 0x7feed015ac90>"
      ]
     },
     "execution_count": 9,
     "metadata": {},
     "output_type": "execute_result"
    }
   ],
   "source": [
    "model.fit(x_train, steps_per_epoch = len(x_train),epochs = 10,validation_data = x_test,validation_steps = len(x_test))"
   ]
  },
  {
   "cell_type": "markdown",
   "metadata": {
    "id": "FpqthyoyugXh"
   },
   "source": [
    "Saving the Model"
   ]
  },
  {
   "cell_type": "code",
   "execution_count": 10,
   "metadata": {
    "id": "N0uLRUBgrb0T"
   },
   "outputs": [],
   "source": [
    "model.save('flowers.h5')"
   ]
  },
  {
   "cell_type": "markdown",
   "metadata": {
    "id": "5Uf4HHbPvn0Q"
   },
   "source": [
    "Testing the Model"
   ]
  },
  {
   "cell_type": "code",
   "execution_count": 11,
   "metadata": {
    "id": "7lITjygxulUv"
   },
   "outputs": [],
   "source": [
    "from tensorflow.keras.models import load_model\n",
    "from tensorflow.keras.preprocessing import image\n",
    "import numpy as np"
   ]
  },
  {
   "cell_type": "code",
   "execution_count": 12,
   "metadata": {
    "id": "4__KAWBNvwiG"
   },
   "outputs": [],
   "source": [
    "model = load_model('C:/Users/nicky raj/Downloads/ass/flowers.h5')"
   ]
  },
  {
   "cell_type": "code",
   "execution_count": 13,
   "metadata": {
    "colab": {
     "base_uri": "https://localhost:8080/",
     "height": 35
    },
    "id": "Ye96MCoFyhtO",
    "outputId": "8d876023-e2ea-4532-caf2-a389ea80d78d"
   },
   "outputs": [
    {
     "data": {
      "application/vnd.google.colaboratory.intrinsic+json": {
       "type": "string"
      },
      "text/plain": [
       "'tulip'"
      ]
     },
     "execution_count": 13,
     "metadata": {},
     "output_type": "execute_result"
    }
   ],
   "source": [
    "img = image.load_img('C:/Users/nicky raj/Downloads/ass/Flowers-Dataset/flowers/tulip/112428919_f0c5ad7d9d_n.jpg',target_size = (64,64))\n",
    "x = image.img_to_array(img)\n",
    "y = np.expand_dims(x,axis = 0)\n",
    "predi = np.argmax(model.predict(y))\n",
    "op = ['daisy','dandelion','rose','sunflower','tulip']\n",
    "op[predi]"
   ]
  }
 ],
 "metadata": {
  "accelerator": "GPU",
  "colab": {
   "provenance": []
  },
  "kernelspec": {
   "display_name": "Python 3 (ipykernel)",
   "language": "python",
   "name": "python3"
  },
  "language_info": {
   "codemirror_mode": {
    "name": "ipython",
    "version": 3
   },
   "file_extension": ".py",
   "mimetype": "text/x-python",
   "name": "python",
   "nbconvert_exporter": "python",
   "pygments_lexer": "ipython3",
   "version": "3.10.8"
  }
 },
 "nbformat": 4,
 "nbformat_minor": 1
}
